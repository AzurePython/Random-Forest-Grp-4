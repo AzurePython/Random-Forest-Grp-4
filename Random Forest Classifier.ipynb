{
 "cells": [
  {
   "cell_type": "markdown",
   "id": "5062be89",
   "metadata": {},
   "source": [
    "## Implementation of Random Forest Classiffier"
   ]
  },
  {
   "cell_type": "markdown",
   "id": "1dd12402",
   "metadata": {},
   "source": [
    "#### Import the necessary libraries"
   ]
  },
  {
   "cell_type": "code",
   "execution_count": 79,
   "id": "6056036f",
   "metadata": {},
   "outputs": [],
   "source": [
    "import pandas as pd\n",
    "from sklearn.metrics import confusion_matrix\n",
    "from sklearn.metrics import matthews_corrcoef\n",
    "# metrics are used to find accuracy or error\n",
    "from sklearn import metrics "
   ]
  },
  {
   "cell_type": "markdown",
   "id": "bbdeffe9",
   "metadata": {},
   "source": [
    "#### Load in the diabetes dataset"
   ]
  },
  {
   "cell_type": "code",
   "execution_count": null,
   "id": "cb94e63b",
   "metadata": {},
   "outputs": [],
   "source": [
    "data = pd.read_csv('diabetes.csv')"
   ]
  },
  {
   "cell_type": "markdown",
   "id": "4319809e",
   "metadata": {},
   "source": [
    "#### Split target feature from the rest of the data and run traintestsplit"
   ]
  },
  {
   "cell_type": "code",
   "execution_count": 32,
   "id": "c0e4ea4a",
   "metadata": {},
   "outputs": [],
   "source": [
    "X = data.copy().drop(columns='Outcome')\n",
    "y = data['Outcome'].copy()\n",
    "X_train, X_test, y_train, y_test = train_test_split(X, y, test_size=0.25, random_state=0)"
   ]
  },
  {
   "cell_type": "markdown",
   "id": "f433ff31",
   "metadata": {},
   "source": [
    "#### Set hyper paramaters, fit the model on the training data, and then run predictions on the test data"
   ]
  },
  {
   "cell_type": "code",
   "execution_count": 108,
   "id": "97506986",
   "metadata": {},
   "outputs": [],
   "source": [
    "clf = RandomForestClassifier(n_estimators = 50, max_features= 'log2', bootstrap = True, oob_score=True)\n",
    " \n",
    "# Training the model on the training dataset\n",
    "# fit function is used to train the model using the training sets as parameters\n",
    "clf.fit(X_train, y_train)\n",
    " \n",
    "# performing predictions on the test dataset\n",
    "y_pred = clf.predict(X_test)"
   ]
  },
  {
   "cell_type": "markdown",
   "id": "c1163910",
   "metadata": {},
   "source": [
    "#### Check R-squared"
   ]
  },
  {
   "cell_type": "code",
   "execution_count": 109,
   "id": "5b3550df",
   "metadata": {},
   "outputs": [
    {
     "name": "stdout",
     "output_type": "stream",
     "text": [
      "Accuaracy Score 0.78125\n"
     ]
    }
   ],
   "source": [
    "# using metrics module for accuracy calculation\n",
    "print(\"Accuaracy Score\", clf.score(X_test,y_test))"
   ]
  },
  {
   "cell_type": "markdown",
   "id": "98e28a01",
   "metadata": {},
   "source": [
    "#### Check Matthews Correlatiton Coefficient"
   ]
  },
  {
   "cell_type": "code",
   "execution_count": 100,
   "id": "7e9ecae2",
   "metadata": {},
   "outputs": [
    {
     "data": {
      "text/plain": [
       "0.5094167255978788"
      ]
     },
     "execution_count": 100,
     "metadata": {},
     "output_type": "execute_result"
    }
   ],
   "source": [
    "matthews_corrcoef(y_test, y_pred)"
   ]
  },
  {
   "cell_type": "markdown",
   "id": "383aeb01",
   "metadata": {},
   "source": [
    "#### Take a look at the confusion matrix"
   ]
  },
  {
   "cell_type": "code",
   "execution_count": 94,
   "id": "f039f84e",
   "metadata": {},
   "outputs": [
    {
     "data": {
      "text/plain": [
       "array([[116,  14],\n",
       "       [ 27,  35]], dtype=int64)"
      ]
     },
     "execution_count": 94,
     "metadata": {},
     "output_type": "execute_result"
    }
   ],
   "source": [
    "confusion_matrix(y_test, y_pred)"
   ]
  },
  {
   "cell_type": "code",
   "execution_count": 97,
   "id": "53142b41",
   "metadata": {},
   "outputs": [
    {
     "data": {
      "text/plain": [
       "0.7517361111111112"
      ]
     },
     "execution_count": 97,
     "metadata": {},
     "output_type": "execute_result"
    }
   ],
   "source": [
    "clf.oob_score_"
   ]
  },
  {
   "cell_type": "code",
   "execution_count": 111,
   "id": "21f3052d",
   "metadata": {},
   "outputs": [],
   "source": [
    "# Get numerical feature importances\n",
    "importances = list(clf.feature_importances_)\n",
    "# List of tuples with variable and importance\n",
    "#"
   ]
  },
  {
   "cell_type": "code",
   "execution_count": 112,
   "id": "a3ae1284",
   "metadata": {},
   "outputs": [
    {
     "data": {
      "text/plain": [
       "[0.07544654898963027,\n",
       " 0.2793996697839284,\n",
       " 0.08367303533030364,\n",
       " 0.06264326200590328,\n",
       " 0.06903214897686816,\n",
       " 0.171164503780679,\n",
       " 0.12279254856875768,\n",
       " 0.13584828256392956]"
      ]
     },
     "execution_count": 112,
     "metadata": {},
     "output_type": "execute_result"
    }
   ],
   "source": [
    "importances"
   ]
  },
  {
   "cell_type": "markdown",
   "id": "04e3d780",
   "metadata": {},
   "source": [
    "ginity impurity for leaf = 1 - (probability of True)^2 - (the probability of False)^2\n",
    "Total gini impurity = add the weighted average of both leafs\n"
   ]
  }
 ],
 "metadata": {
  "kernelspec": {
   "display_name": "Python 3 (ipykernel)",
   "language": "python",
   "name": "python3"
  },
  "language_info": {
   "codemirror_mode": {
    "name": "ipython",
    "version": 3
   },
   "file_extension": ".py",
   "mimetype": "text/x-python",
   "name": "python",
   "nbconvert_exporter": "python",
   "pygments_lexer": "ipython3",
   "version": "3.8.8"
  }
 },
 "nbformat": 4,
 "nbformat_minor": 5
}
